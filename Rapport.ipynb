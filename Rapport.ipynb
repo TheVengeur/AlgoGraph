{
 "cells": [
  {
   "cell_type": "markdown",
   "metadata": {},
   "source": [
    "# Projet AlgoGraph\n",
    "\n",
    "- Valentin ANOT\n",
    "- Séraphin PERROT\n",
    "- Charles DUBRET\n",
    "\n",
    "## Librairies externes\n",
    "\n",
    "\n",
    "## Exercice 1\n"
   ]
  },
  {
   "cell_type": "markdown",
   "metadata": {},
   "source": [
    "## Exercice 1"
   ]
  },
  {
   "cell_type": "code",
   "execution_count": null,
   "metadata": {},
   "outputs": [],
   "source": [
    "import Exercice1.Exercice1 as ex1\n",
    "\n",
    "ex1.Exercice1()"
   ]
  },
  {
   "cell_type": "markdown",
   "metadata": {},
   "source": [
    "## Exercice 2"
   ]
  },
  {
   "cell_type": "code",
   "execution_count": 1,
   "metadata": {},
   "outputs": [
    {
     "ename": "ModuleNotFoundError",
     "evalue": "No module named 'Exercice2.Exercice2'",
     "output_type": "error",
     "traceback": [
      "\u001b[1;31m---------------------------------------------------------------------------\u001b[0m",
      "\u001b[1;31mModuleNotFoundError\u001b[0m                       Traceback (most recent call last)",
      "Cell \u001b[1;32mIn[1], line 1\u001b[0m\n\u001b[1;32m----> 1\u001b[0m \u001b[38;5;28;01mimport\u001b[39;00m \u001b[38;5;21;01mExercice2\u001b[39;00m\u001b[38;5;21;01m.\u001b[39;00m\u001b[38;5;21;01mExercice2\u001b[39;00m \u001b[38;5;28;01mas\u001b[39;00m \u001b[38;5;21;01mex2\u001b[39;00m\n\u001b[0;32m      3\u001b[0m ex2\u001b[38;5;241m.\u001b[39mExercice2()\n",
      "\u001b[1;31mModuleNotFoundError\u001b[0m: No module named 'Exercice2.Exercice2'"
     ]
    }
   ],
   "source": [
    "import Exercice2.Exercice2 as ex2\n",
    "\n",
    "ex2.Exercice2()"
   ]
  },
  {
   "cell_type": "markdown",
   "metadata": {},
   "source": [
    "## Exercice 3"
   ]
  },
  {
   "cell_type": "code",
   "execution_count": 2,
   "metadata": {},
   "outputs": [
    {
     "ename": "ModuleNotFoundError",
     "evalue": "No module named 'Exercice3.Exercice3'",
     "output_type": "error",
     "traceback": [
      "\u001b[1;31m---------------------------------------------------------------------------\u001b[0m",
      "\u001b[1;31mModuleNotFoundError\u001b[0m                       Traceback (most recent call last)",
      "Cell \u001b[1;32mIn[2], line 1\u001b[0m\n\u001b[1;32m----> 1\u001b[0m \u001b[38;5;28;01mimport\u001b[39;00m \u001b[38;5;21;01mExercice3\u001b[39;00m\u001b[38;5;21;01m.\u001b[39;00m\u001b[38;5;21;01mExercice3\u001b[39;00m \u001b[38;5;28;01mas\u001b[39;00m \u001b[38;5;21;01mex3\u001b[39;00m\n\u001b[0;32m      2\u001b[0m ex3\u001b[38;5;241m.\u001b[39mExercice3()\n",
      "\u001b[1;31mModuleNotFoundError\u001b[0m: No module named 'Exercice3.Exercice3'"
     ]
    }
   ],
   "source": [
    "import Exercice3.Exercice3 as ex3\n",
    "ex3.Exercice3()\n"
   ]
  },
  {
   "cell_type": "markdown",
   "metadata": {},
   "source": [
    "## Exercice 4\n"
   ]
  },
  {
   "cell_type": "code",
   "execution_count": 3,
   "metadata": {},
   "outputs": [
    {
     "ename": "ImportError",
     "evalue": "cannot import name 'simulation' from 'Exercice4' (unknown location)",
     "output_type": "error",
     "traceback": [
      "\u001b[1;31m---------------------------------------------------------------------------\u001b[0m",
      "\u001b[1;31mImportError\u001b[0m                               Traceback (most recent call last)",
      "Cell \u001b[1;32mIn[3], line 1\u001b[0m\n\u001b[1;32m----> 1\u001b[0m \u001b[38;5;28;01mfrom\u001b[39;00m \u001b[38;5;21;01mExercice4\u001b[39;00m \u001b[38;5;28;01mimport\u001b[39;00m simulation, chrysalde_policy \u001b[38;5;28;01mas\u001b[39;00m policy\n\u001b[0;32m      3\u001b[0m simulation\u001b[38;5;241m.\u001b[39mcurrent_policy \u001b[38;5;241m=\u001b[39m policy\u001b[38;5;241m.\u001b[39mchrysalde_policy\n\u001b[0;32m      5\u001b[0m simulation\u001b[38;5;241m.\u001b[39mmain()\n",
      "\u001b[1;31mImportError\u001b[0m: cannot import name 'simulation' from 'Exercice4' (unknown location)"
     ]
    }
   ],
   "source": [
    "from Exercice4.Exercice4 as ex4\n",
    "\n",
    "ex4.Exercice4()"
   ]
  }
 ],
 "metadata": {
  "kernelspec": {
   "display_name": "Python 3",
   "language": "python",
   "name": "python3"
  },
  "language_info": {
   "codemirror_mode": {
    "name": "ipython",
    "version": 3
   },
   "file_extension": ".py",
   "mimetype": "text/x-python",
   "name": "python",
   "nbconvert_exporter": "python",
   "pygments_lexer": "ipython3",
   "version": "3.9.7"
  }
 },
 "nbformat": 4,
 "nbformat_minor": 2
}
