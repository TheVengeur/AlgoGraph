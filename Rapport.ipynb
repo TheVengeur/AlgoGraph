{
 "cells": [
  {
   "cell_type": "markdown",
   "metadata": {},
   "source": [
    "# Projet AlgoGraph\n",
    "\n",
    "- Valentin ANOT\n",
    "- Séraphin PERROT\n",
    "- Charles DUBRET\n",
    "\n",
    "## Librairies externes\n",
    "\n",
    "\n",
    "## Exercice 1\n"
   ]
  },
  {
   "cell_type": "markdown",
   "metadata": {},
   "source": [
    "## Exercice 1"
   ]
  },
  {
   "cell_type": "code",
   "execution_count": 5,
   "metadata": {
    "ExecuteTime": {
     "end_time": "2024-06-16T15:48:15.824349Z",
     "start_time": "2024-06-16T15:48:15.813044Z"
    }
   },
   "outputs": [
    {
     "ename": "ModuleNotFoundError",
     "evalue": "No module named 'Exercice1.Exercice1'",
     "output_type": "error",
     "traceback": [
      "\u001B[0;31m---------------------------------------------------------------------------\u001B[0m",
      "\u001B[0;31mModuleNotFoundError\u001B[0m                       Traceback (most recent call last)",
      "Cell \u001B[0;32mIn[5], line 1\u001B[0m\n\u001B[0;32m----> 1\u001B[0m \u001B[38;5;28;01mimport\u001B[39;00m \u001B[38;5;21;01mExercice1\u001B[39;00m\u001B[38;5;21;01m.\u001B[39;00m\u001B[38;5;21;01mExercice1\u001B[39;00m \u001B[38;5;28;01mas\u001B[39;00m \u001B[38;5;21;01mex1\u001B[39;00m\n\u001B[1;32m      3\u001B[0m ex1\u001B[38;5;241m.\u001B[39mExercice1()\n",
      "\u001B[0;31mModuleNotFoundError\u001B[0m: No module named 'Exercice1.Exercice1'"
     ]
    }
   ],
   "source": [
    "import Exercice1.Exercice1 as ex1\n",
    "\n",
    "ex1.Exercice1()"
   ]
  },
  {
   "cell_type": "markdown",
   "metadata": {},
   "source": [
    "## Exercice 2"
   ]
  },
  {
   "cell_type": "code",
   "execution_count": null,
   "metadata": {
    "ExecuteTime": {
     "end_time": "2024-06-16T15:48:15.831596Z",
     "start_time": "2024-06-16T15:48:15.826917Z"
    }
   },
   "outputs": [],
   "source": [
    "import Exercice2.Exercice2 as ex2\n",
    "\n",
    "ex2.Exercice2()"
   ]
  },
  {
   "cell_type": "markdown",
   "metadata": {},
   "source": [
    "## Exercice 3\n",
    "\n",
    "Function 1:  \n",
    "The inside loop of the function for j in range(i) is running n² times with a value of j going from 0, to n² - 1. The time complexity of the function is therefore the sum of every number from 0 to n². Which is the formula: S(n) = n x (n + 1) / 2 or in this instance: S(n) = n² x ((n² - 1) + 1) / 2\n",
    "That can be simplified:\n",
    "    S(n) = n² x n² / 2\n",
    "    S(n) = n⁴ / 2\n",
    "Which can be simplified S(n) = O(n⁴)\n",
    "\n",
    "Function 2:\n",
    "    The time complexity of each line inside the loop is considered to be O(n) therefore the three lines inside the loop have a time complexity of O(n) + O(n) + O(n) = O(3n) that can be simplified O(n). So the time complexity of the function will be O(n) x O(n) = O(n²)\n",
    "    \n",
    "![Image](./Exercice3/polynomial_fit.png)"
   ]
  },
  {
   "cell_type": "code",
   "execution_count": null,
   "metadata": {
    "ExecuteTime": {
     "start_time": "2024-06-16T15:48:15.828528Z"
    }
   },
   "outputs": [],
   "source": [
    "import Exercice3.exercice_3_functions as ex3\n",
    "ex3.generate_bound()\n"
   ]
  },
  {
   "cell_type": "markdown",
   "metadata": {},
   "source": [
    "## Exercice 4\n",
    "\n",
    "Eulerian Path:\n",
    "The eulerian path in graph is a path that can go through each vertex of a graph, but under the condition that is goes by every edge exactly once, and it can exist only of zero or tow vertex have an odd degree\n",
    "\n",
    "Hamiltonian path:\n",
    "The Hamiltonian path is a path that goes through every vertex in the graph once with no other defined constraints\n",
    "\n",
    "a line graph L(G) where each vertex represent an Edge of the graph G. An Edge the connection between tow vertex\n",
    "While there is no direct connection between Eulerian and Hamiltonian Path in a graph, if we construct a Linegraph from a graph that contains an Eulerian Path, it's LineGraph will contain an Hamiltonian Path because the Linegraph is made of all the edges of G, So if the Eulerian Path consists of going through all edges only once, and L(G) is the edges of G containing an Eulerian Path, it is possible to go through each vertex of the L(G) thus creating an Hamiltonian Path\n",
    "\n",
    "\n",
    "From an algorithm point of view, I think that the Hamiltonian Path is harder than the Eurelian path. First, while for the Eurelian there is at least cases where we can determine if whether it is Eurelian with a simple check, in the Hamiltonian you will have to go through the whole graph every time before know if it is, or not. And then the requirement of the Eurelian is to go through only the Edges only once, that means that you can pass by vertex multiple times, which is less blocking that the hamiltonian condition of going through each vertex only once.\n",
    "\n",
    "![Image](./Exercice4/G_E-LG-H.png)"
   ]
  },
  {
   "cell_type": "code",
   "execution_count": null,
   "metadata": {
    "ExecuteTime": {
     "start_time": "2024-06-16T15:48:15.829640Z"
    }
   },
   "outputs": [],
   "source": [
    "import Exercice4.exercice_4 as ex4\n",
    "\n",
    "ex4.start()"
   ]
  }
 ],
 "metadata": {
  "kernelspec": {
   "display_name": "Python 3",
   "language": "python",
   "name": "python3"
  },
  "language_info": {
   "codemirror_mode": {
    "name": "ipython",
    "version": 3
   },
   "file_extension": ".py",
   "mimetype": "text/x-python",
   "name": "python",
   "nbconvert_exporter": "python",
   "pygments_lexer": "ipython3",
   "version": "3.9.7"
  }
 },
 "nbformat": 4,
 "nbformat_minor": 2
}
